import xarray as xr
import numpy as np
import pandas as pd
import matplotlib.pyplot as plt


his_ph_med = xr.open_dataset('../data/acid/historical/pHT_median_historical.nc')
his_ph_std = xr.open_dataset('../data/acid/historical/pHT_std_historical.nc')

ssp119_ph_med = xr.open_dataset('../data/acid/ssp119/pHT_median_ssp119.nc')
ssp119_ph_std = xr.open_dataset('../data/acid/ssp119/pHT_std_ssp119.nc')


his_ph_med["pHT"].sel(time=1850, lon=slice(50, 200), lat=slice(65, 110)).plot()


his_ph_med



